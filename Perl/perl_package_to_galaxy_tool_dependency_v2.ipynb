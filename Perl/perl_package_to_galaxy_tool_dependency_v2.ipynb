{
 "cells": [
  {
   "cell_type": "markdown",
   "metadata": {},
   "source": [
    "# This notebook will build a Galaxy tool_dependencies.xml file from a Perl Package Name\n",
    "\n",
    "Simply replace the package name in cell 2."
   ]
  },
  {
   "cell_type": "code",
   "execution_count": 1,
   "metadata": {
    "collapsed": false,
    "scrolled": true
   },
   "outputs": [
    {
     "name": "stdout",
     "output_type": "stream",
     "text": [
      "!\n",
      "! Can't write to /usr/local/share/perl/5.14.2 and /usr/local/bin: Installing modules to /home/helena/perl5\n",
      "! To turn off this warning, you have to do one of the following:\n",
      "!   - run me as a root or with --sudo option (to install to /usr/local/share/perl/5.14.2 and /usr/local/bin)\n",
      "!   - Configure local::lib your existing local::lib in this shell to set PERL_MM_OPT etc.\n",
      "!   - Install local::lib by running the following commands\n",
      "!\n",
      "!         cpanm --local-lib=~/perl5 local::lib && eval $(perl -I ~/perl5/lib/perl5/ -Mlocal::lib)\n",
      "!\n",
      "CPAN::FindDependencies is up to date. (2.42)\n"
     ]
    }
   ],
   "source": [
    "!cpanm CPAN::FindDependencies"
   ]
  },
  {
   "cell_type": "code",
   "execution_count": 2,
   "metadata": {
    "collapsed": false
   },
   "outputs": [
    {
     "name": "stdout",
     "output_type": "stream",
     "text": [
      "<tool_dependency>\r\n",
      "    <package name=\"perl\" version=\"5.18.1\">\r\n",
      "        <repository name=\"package_perl_5_18\" owner=\"iuc\" prior_installation_required=\"True\" />\r\n",
      "    </package>\r\n",
      "    <package name=\"package_http_client\" version=\"1.57\">\r\n",
      "        <install version=\"1.0\">\r\n",
      "            <actions>\r\n",
      "                <action type=\"setup_perl_environment\">\r\n",
      "                    <repository name=\"package_perl_5_18\" owner=\"iuc\">\r\n",
      "                        <package name=\"perl\" version=\"5.18.1\" />\r\n",
      "                    </repository>\r\n",
      "                    <package>D/DL/DLAND/File-Path-2.09.tar.gz</package>\r\n",
      "                    <package>S/SA/SAPER/XSLoader-0.16.tar.gz</package>\r\n",
      "                    <package>P/PM/PMQS/Compress-Raw-Bzip2-2.068.tar.gz</package>\r\n",
      "                    <package>D/DA/DAGOLDEN/File-Temp-0.2304.tar.gz</package>\r\n",
      "                    <package>N/NE/NEILB/Pod-Escapes-1.07.tar.gz</package>\r\n",
      "                    <package>J/JE/JESSE/Test-1.26.tar.gz</package>\r\n",
      "                    <package>M/MU/MUIR/modules/Text-Tabs+Wrap-2013.0523.tar.gz</package>\r\n",
      "                    <package>G/GA/GAAS/MIME-Base64-3.15.tar.gz</package>\r\n",
      "                    <package>D/DR/DROLSKY/Time-Local-1.2300.tar.gz</package>\r\n",
      "                    <package>P/PM/PMQS/Compress-Raw-Zlib-2.068.tar.gz</package>\r\n",
      "                    <package>P/PM/PMQS/IO-Compress-2.068.tar.gz</package>\r\n",
      "                    <package>C/CJ/CJM/IO-HTML-1.001.tar.gz</package>\r\n",
      "                    <package>G/GA/GAAS/LWP-MediaTypes-6.02.tar.gz</package>\r\n",
      "                    <package>E/ET/ETHER/URI-1.65.tar.gz</package>\r\n",
      "                    <package>D/DW/DWHEELER/Pod-Simple-3.29.tar.gz</package>\r\n",
      "                    <package>G/GA/GAAS/Digest-1.17.tar.gz</package>\r\n",
      "                    <package>G/GA/GAAS/HTTP-Date-6.02.tar.gz</package>\r\n",
      "                    <package>P/PE/PETDANCE/HTML-Tagset-3.20.tar.gz</package>\r\n",
      "                    <package>G/GA/GAAS/HTTP-Message-6.06.tar.gz</package>\r\n",
      "                    <package>P/PE/PEVANS/Socket-2.016.tar.gz</package>\r\n",
      "                    <package>G/GB/GBARR/IO-1.25.tar.gz</package>\r\n",
      "                    <package>P/PE/PEVANS/Scalar-List-Utils-1.41.tar.gz</package>\r\n",
      "                    <package>L/LE/LEONT/Test-Harness-3.35.tar.gz</package>\r\n",
      "                    <package>D/DA/DANKOGAI/Encode-2.68.tar.gz</package>\r\n",
      "                    <package>S/SM/SMUELLER/PathTools-3.47.tar.gz</package>\r\n",
      "                    <package>R/RR/RRA/podlators-2.5.3.tar.gz</package>\r\n",
      "                    <package>G/GA/GAAS/Digest-MD5-2.54.tar.gz</package>\r\n",
      "                    <package>G/GA/GAAS/Encode-Locale-1.04.tar.gz</package>\r\n",
      "                    <package>G/GA/GAAS/File-Listing-6.04.tar.gz</package>\r\n",
      "                    <package>G/GA/GAAS/HTML-Parser-3.71.tar.gz</package>\r\n",
      "                    <package>G/GA/GAAS/HTTP-Cookies-6.01.tar.gz</package>\r\n",
      "                    <package>G/GA/GAAS/HTTP-Daemon-6.01.tar.gz</package>\r\n",
      "                    <package>G/GA/GAAS/HTTP-Negotiate-6.01.tar.gz</package>\r\n",
      "                    <package>S/SH/SHAY/libnet-3.05.tar.gz</package>\r\n",
      "                    <package>M/MS/MSCHILLI/Net-HTTP-6.07.tar.gz</package>\r\n",
      "                    <package>G/GA/GAAS/WWW-RobotRules-6.02.tar.gz</package>\r\n",
      "                    <package>T/TO/TODDR/Exporter-5.70.tar.gz</package>\r\n",
      "                    <package>R/RJ/RJBS/perl-5.20.0.tar.gz</package>\r\n",
      "                    <package>E/EX/EXODIST/Test-Simple-1.001014.tar.gz</package>\r\n",
      "                    <package>R/RJ/RJBS/perl-5.18.4.tar.gz</package>\r\n",
      "                    <package>C/CO/CORION/parent-0.228.tar.gz</package>\r\n",
      "                    <package>B/BI/BINGOS/ExtUtils-MakeMaker-7.04.tar.gz</package>\r\n",
      "                    <package>M/MS/MSCHILLI/libwww-perl-6.08.tar.gz</package>\r\n",
      "                    <package>Z/ZE/ZEFRAM/Carp-1.3301.tar.gz</package>\r\n",
      "                    <package>N/NE/NEILB/HTTP-Lite-2.43.tar.gz</package>\r\n",
      "                    <package>A/AD/ADAMK/LWP-Online-1.08.tar.gz</package>\r\n",
      "                    <package>N/NE/NEILB/HTTP-Client-1.57.tar.gz</package>\r\n",
      "                </action>\r\n",
      "            </actions>\r\n",
      "        </install>\r\n",
      "        <readme><![CDATA[\r\n",
      "            Perl package: HTTP::Client\r\n",
      "        ]]>\r\n",
      "        </readme>\r\n",
      "    </package>\r\n",
      "</tool_dependency>\r\n"
     ]
    }
   ],
   "source": [
    "!PERL5LIB=~/perl5/lib/perl5/ perl perl_modules_to_tool_dependencies.pl HTTP::Client"
   ]
  }
 ],
 "metadata": {
  "kernelspec": {
   "display_name": "Python 2",
   "language": "python",
   "name": "python2"
  },
  "language_info": {
   "codemirror_mode": {
    "name": "ipython",
    "version": 2
   },
   "file_extension": ".py",
   "mimetype": "text/x-python",
   "name": "python",
   "nbconvert_exporter": "python",
   "pygments_lexer": "ipython2",
   "version": "2.7.3"
  }
 },
 "nbformat": 4,
 "nbformat_minor": 0
}
