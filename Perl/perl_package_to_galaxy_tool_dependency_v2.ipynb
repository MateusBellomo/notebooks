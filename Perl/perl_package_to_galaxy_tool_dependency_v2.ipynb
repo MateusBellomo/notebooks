{
 "cells": [
  {
   "cell_type": "markdown",
   "metadata": {},
   "source": [
    "# This notebook will build a Galaxy tool_dependencies.xml file from a Perl Package Name\n",
    "\n",
    "Simply replace the package name in cell 2."
   ]
  },
  {
   "cell_type": "code",
   "execution_count": 1,
   "metadata": {
    "collapsed": false,
    "scrolled": true
   },
   "outputs": [
    {
     "name": "stdout",
     "output_type": "stream",
     "text": [
      "!\n",
      "! Can't write to /usr/local/share/perl/5.14.2 and /usr/local/bin: Installing modules to /home/helena/perl5\n",
      "! To turn off this warning, you have to do one of the following:\n",
      "!   - run me as a root or with --sudo option (to install to /usr/local/share/perl/5.14.2 and /usr/local/bin)\n",
      "!   - Configure local::lib your existing local::lib in this shell to set PERL_MM_OPT etc.\n",
      "!   - Install local::lib by running the following commands\n",
      "!\n",
      "!         cpanm --local-lib=~/perl5 local::lib && eval $(perl -I ~/perl5/lib/perl5/ -Mlocal::lib)\n",
      "!\n",
      "CPAN::FindDependencies is up to date. (2.42)\n"
     ]
    }
   ],
   "source": [
    "!cpanm CPAN::FindDependencies"
   ]
  },
  {
   "cell_type": "code",
   "execution_count": 2,
   "metadata": {
    "collapsed": false
   },
   "outputs": [
    {
     "name": "stdout",
     "output_type": "stream",
     "text": [
      "<tool_dependency>\r\n",
      "    <package name=\"perl\" version=\"5.18.1\">\r\n",
      "        <repository name=\"package_perl_5_18\" owner=\"iuc\" prior_installation_required=\"True\" />\r\n",
      "    </package>\r\n",
      "    <package name=\"perl_http_client\" version=\"1.57\">\r\n",
      "        <install version=\"1.0\">\r\n",
      "            <actions>\r\n",
      "                <action type=\"setup_perl_environment\">\r\n",
      "                    <repository name=\"package_perl_5_18\" owner=\"iuc\">\r\n",
      "                        <package name=\"perl\" version=\"5.18.1\" />\r\n",
      "                    </repository>\r\n",
      "                    <package>http://www.cpan.org/authors/id/C/CJ/CJM/IO-HTML-1.001.tar.gz</package>\r\n",
      "                    <package>http://www.cpan.org/authors/id/G/GA/GAAS/LWP-MediaTypes-6.02.tar.gz</package>\r\n",
      "                    <package>http://www.cpan.org/authors/id/E/ET/ETHER/URI-1.65.tar.gz</package>\r\n",
      "                    <package>http://www.cpan.org/authors/id/G/GA/GAAS/HTTP-Date-6.02.tar.gz</package>\r\n",
      "                    <package>http://www.cpan.org/authors/id/P/PE/PETDANCE/HTML-Tagset-3.20.tar.gz</package>\r\n",
      "                    <package>http://www.cpan.org/authors/id/G/GA/GAAS/HTTP-Message-6.06.tar.gz</package>\r\n",
      "                    <package>http://www.cpan.org/authors/id/G/GA/GAAS/Encode-Locale-1.04.tar.gz</package>\r\n",
      "                    <package>http://www.cpan.org/authors/id/G/GA/GAAS/File-Listing-6.04.tar.gz</package>\r\n",
      "                    <package>http://www.cpan.org/authors/id/G/GA/GAAS/HTML-Parser-3.71.tar.gz</package>\r\n",
      "                    <package>http://www.cpan.org/authors/id/G/GA/GAAS/HTTP-Cookies-6.01.tar.gz</package>\r\n",
      "                    <package>http://www.cpan.org/authors/id/G/GA/GAAS/HTTP-Daemon-6.01.tar.gz</package>\r\n",
      "                    <package>http://www.cpan.org/authors/id/G/GA/GAAS/HTTP-Negotiate-6.01.tar.gz</package>\r\n",
      "                    <package>http://www.cpan.org/authors/id/M/MS/MSCHILLI/Net-HTTP-6.07.tar.gz</package>\r\n",
      "                    <package>http://www.cpan.org/authors/id/G/GA/GAAS/WWW-RobotRules-6.02.tar.gz</package>\r\n",
      "                    <package>http://www.cpan.org/authors/id/M/MS/MSCHILLI/libwww-perl-6.08.tar.gz</package>\r\n",
      "                    <package>http://www.cpan.org/authors/id/N/NE/NEILB/HTTP-Lite-2.43.tar.gz</package>\r\n",
      "                    <package>http://www.cpan.org/authors/id/A/AD/ADAMK/LWP-Online-1.08.tar.gz</package>\r\n",
      "                    <package>http://www.cpan.org/authors/id/N/NE/NEILB/HTTP-Client-1.57.tar.gz</package>\r\n",
      "                </action>\r\n",
      "            </actions>\r\n",
      "        </install>\r\n",
      "        <readme><![CDATA[\r\n",
      "            Perl package: HTTP::Client\r\n",
      "        ]]>\r\n",
      "        </readme>\r\n",
      "    </package>\r\n",
      "</tool_dependency>\r\n"
     ]
    }
   ],
   "source": [
    "!PERL5LIB=~/perl5/lib/perl5/ perl perl_modules_to_tool_dependencies.pl HTTP::Client"
   ]
  }
 ],
 "metadata": {
  "kernelspec": {
   "display_name": "Python 2",
   "language": "python",
   "name": "python2"
  },
  "language_info": {
   "codemirror_mode": {
    "name": "ipython",
    "version": 2
   },
   "file_extension": ".py",
   "mimetype": "text/x-python",
   "name": "python",
   "nbconvert_exporter": "python",
   "pygments_lexer": "ipython2",
   "version": "2.7.3"
  }
 },
 "nbformat": 4,
 "nbformat_minor": 0
}
